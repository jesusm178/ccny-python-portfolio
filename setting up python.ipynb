{
 "cells": [
  {
   "cell_type": "code",
   "execution_count": 1,
   "id": "51b0a534-1cba-4c24-a348-41569c3e0254",
   "metadata": {},
   "outputs": [
    {
     "name": "stdout",
     "output_type": "stream",
     "text": [
      "Collecting vaderSentiment\n",
      "  Downloading vaderSentiment-3.3.2-py2.py3-none-any.whl.metadata (572 bytes)\n",
      "Requirement already satisfied: requests in /opt/anaconda3/lib/python3.12/site-packages (from vaderSentiment) (2.32.2)\n",
      "Requirement already satisfied: charset-normalizer<4,>=2 in /opt/anaconda3/lib/python3.12/site-packages (from requests->vaderSentiment) (2.0.4)\n",
      "Requirement already satisfied: idna<4,>=2.5 in /opt/anaconda3/lib/python3.12/site-packages (from requests->vaderSentiment) (3.7)\n",
      "Requirement already satisfied: urllib3<3,>=1.21.1 in /opt/anaconda3/lib/python3.12/site-packages (from requests->vaderSentiment) (2.2.2)\n",
      "Requirement already satisfied: certifi>=2017.4.17 in /opt/anaconda3/lib/python3.12/site-packages (from requests->vaderSentiment) (2024.8.30)\n",
      "Downloading vaderSentiment-3.3.2-py2.py3-none-any.whl (125 kB)\n",
      "\u001b[2K   \u001b[90m━━━━━━━━━━━━━━━━━━━━━━━━━━━━━━━━━━━━━━━━\u001b[0m \u001b[32m126.0/126.0 kB\u001b[0m \u001b[31m2.5 MB/s\u001b[0m eta \u001b[36m0:00:00\u001b[0m \u001b[36m0:00:01\u001b[0m\n",
      "\u001b[?25hInstalling collected packages: vaderSentiment\n",
      "Successfully installed vaderSentiment-3.3.2\n"
     ]
    }
   ],
   "source": [
    "!pip install vaderSentiment"
   ]
  },
  {
   "cell_type": "code",
   "execution_count": 9,
   "id": "1771b4d2-6554-46a7-bdc8-96e62b9c90ae",
   "metadata": {},
   "outputs": [],
   "source": [
    "from vaderSentiment.vaderSentiment import SentimentIntensityAnalyzer"
   ]
  },
  {
   "cell_type": "code",
   "execution_count": 11,
   "id": "61031bae-6bf1-409f-85ff-9e9f95e5cef5",
   "metadata": {},
   "outputs": [],
   "source": [
    "import pandas as pd "
   ]
  },
  {
   "cell_type": "code",
   "execution_count": 13,
   "id": "c9e0cfc4-30a8-4afc-9098-be42eaf82572",
   "metadata": {},
   "outputs": [],
   "source": [
    "sentimentAnalyser = SentimentIntensityAnalyzer()"
   ]
  },
  {
   "cell_type": "code",
   "execution_count": 33,
   "id": "2dcf9399-f5fd-4a44-bcd0-013fbd4b1d63",
   "metadata": {},
   "outputs": [
    {
     "data": {
      "text/plain": [
       "{'neg': 0.0, 'neu': 1.0, 'pos': 0.0, 'compound': 0.0}"
      ]
     },
     "execution_count": 33,
     "metadata": {},
     "output_type": "execute_result"
    }
   ],
   "source": [
    "sentimentAnalyser.polarity_scores(\"<NARS soft matte foundation in shade ARUBA>\")"
   ]
  },
  {
   "cell_type": "code",
   "execution_count": 39,
   "id": "3cd82415-22c1-4ec4-81ff-71d16c28e3dc",
   "metadata": {},
   "outputs": [
    {
     "data": {
      "text/plain": [
       "{'neg': 0.246, 'neu': 0.629, 'pos': 0.126, 'compound': -0.9741}"
      ]
     },
     "execution_count": 39,
     "metadata": {},
     "output_type": "execute_result"
    }
   ],
   "source": [
    "sentimentAnalyser.polarity_scores(\"<So you stand in a broken war You fall upon your sword Cheers to what you had You said forgive and forget Then got me into this mess Through an open door I'm where I was before Cheers to what we had You said forgive and forget So get me out of this mess Get me, get me, get me, me Get me, get me, get me, me I'm sending out a distress So get me out of this mess So get me out of this mess Please don't die alone Overhead I'll surrender to the voices in the end Shoulda known those dirty bastards Would put wires in your head Are you there? All alone Lost in forever Please don't die alone Overhead I'll surrender to the voices in the end Shoulda known those dirty bastards Would put wires in your head Are you there? All alone Lost in forever>\")"
   ]
  },
  {
   "cell_type": "code",
   "execution_count": 41,
   "id": "24b12831-fd4d-4b28-93b2-ec32d7f82728",
   "metadata": {},
   "outputs": [
    {
     "data": {
      "text/plain": [
       "{'neg': 0.041, 'neu': 0.763, 'pos': 0.196, 'compound': 0.987}"
      ]
     },
     "execution_count": 41,
     "metadata": {},
     "output_type": "execute_result"
    }
   ],
   "source": [
    "sentimentAnalyser.polarity_scores(\"<Please tell me not to go We've been here long before I live under your eyelids I'll always be yours I'll lay on your rooftop in the freezing cold And I'll watch the sunset wearing all your clothes I can feel you with me like I did before Like when I sang you a love song by Norah Jones Ooh, Sienna Would've been cute Ooh, Sienna Would look just like you I came clean And it feels so good If I feel seen, mm Only through you I'll wait here tomorrow, outside your door Like I did in December, when you held me close Coming up on your corner, pulling out my hair Hear the creak in the floorboards going up the stairs Ooh, Sienna Would've been cute Ooh, Sienna Would look just like you With a temper like you, run around like you Jumping in the pool, like you Sing to all her pets in the way I did Be sensitive like you And I smile when I think of all the times we had On the beach in the winter when the waves were mad Down by the water, crystal clear See her face in the forest then it disappears>\")"
   ]
  },
  {
   "cell_type": "code",
   "execution_count": null,
   "id": "f2d9f426-79ef-4305-8e5c-9dbccb2cbf11",
   "metadata": {},
   "outputs": [],
   "source": []
  }
 ],
 "metadata": {
  "kernelspec": {
   "display_name": "Python 3 (ipykernel)",
   "language": "python",
   "name": "python3"
  },
  "language_info": {
   "codemirror_mode": {
    "name": "ipython",
    "version": 3
   },
   "file_extension": ".py",
   "mimetype": "text/x-python",
   "name": "python",
   "nbconvert_exporter": "python",
   "pygments_lexer": "ipython3",
   "version": "3.12.4"
  }
 },
 "nbformat": 4,
 "nbformat_minor": 5
}
