{
 "cells": [
  {
   "cell_type": "code",
   "execution_count": 1,
   "id": "4dc0d10e-7f5b-44d1-990f-a0ee2e9e8790",
   "metadata": {},
   "outputs": [],
   "source": [
    "import pandas as pd"
   ]
  },
  {
   "cell_type": "code",
   "execution_count": 9,
   "id": "58142fb3-8beb-42eb-ba4f-81b9541637e1",
   "metadata": {},
   "outputs": [],
   "source": [
    "student_data = [(1,15), (2,11), (3,11), (4,20)]"
   ]
  },
  {
   "cell_type": "code",
   "execution_count": 11,
   "id": "e6e0a824-1c03-494b-98c0-a6ee46caffa6",
   "metadata": {},
   "outputs": [],
   "source": [
    "columns = [\"student_id\", \"age\"]"
   ]
  },
  {
   "cell_type": "code",
   "execution_count": 13,
   "id": "b157856b-97f1-4827-98d8-54040a2d983d",
   "metadata": {},
   "outputs": [],
   "source": [
    "students = pd.DataFrame(data=student_data, columns=columns)"
   ]
  },
  {
   "cell_type": "code",
   "execution_count": 15,
   "id": "9388d6b7-9471-4ab2-9dca-2acf8a5fc32c",
   "metadata": {},
   "outputs": [
    {
     "data": {
      "text/html": [
       "<div>\n",
       "<style scoped>\n",
       "    .dataframe tbody tr th:only-of-type {\n",
       "        vertical-align: middle;\n",
       "    }\n",
       "\n",
       "    .dataframe tbody tr th {\n",
       "        vertical-align: top;\n",
       "    }\n",
       "\n",
       "    .dataframe thead th {\n",
       "        text-align: right;\n",
       "    }\n",
       "</style>\n",
       "<table border=\"1\" class=\"dataframe\">\n",
       "  <thead>\n",
       "    <tr style=\"text-align: right;\">\n",
       "      <th></th>\n",
       "      <th>student_id</th>\n",
       "      <th>age</th>\n",
       "    </tr>\n",
       "  </thead>\n",
       "  <tbody>\n",
       "    <tr>\n",
       "      <th>0</th>\n",
       "      <td>1</td>\n",
       "      <td>15</td>\n",
       "    </tr>\n",
       "    <tr>\n",
       "      <th>1</th>\n",
       "      <td>2</td>\n",
       "      <td>11</td>\n",
       "    </tr>\n",
       "    <tr>\n",
       "      <th>2</th>\n",
       "      <td>3</td>\n",
       "      <td>11</td>\n",
       "    </tr>\n",
       "    <tr>\n",
       "      <th>3</th>\n",
       "      <td>4</td>\n",
       "      <td>20</td>\n",
       "    </tr>\n",
       "  </tbody>\n",
       "</table>\n",
       "</div>"
      ],
      "text/plain": [
       "   student_id  age\n",
       "0           1   15\n",
       "1           2   11\n",
       "2           3   11\n",
       "3           4   20"
      ]
     },
     "execution_count": 15,
     "metadata": {},
     "output_type": "execute_result"
    }
   ],
   "source": [
    "students"
   ]
  },
  {
   "cell_type": "code",
   "execution_count": 21,
   "id": "7379aeaf-00e4-4aae-aeaa-e124ff52d21e",
   "metadata": {},
   "outputs": [],
   "source": [
    "rows = len(students) # len is function that returns the \n",
    "                    # length of what's inside "
   ]
  },
  {
   "cell_type": "code",
   "execution_count": 23,
   "id": "ed45729b-0145-4154-83ab-19c3e382b9b0",
   "metadata": {},
   "outputs": [
    {
     "name": "stdout",
     "output_type": "stream",
     "text": [
      "The students dataset has 4 rows\n"
     ]
    }
   ],
   "source": [
    "print(f\"The students dataset has {rows} rows\")"
   ]
  },
  {
   "cell_type": "code",
   "execution_count": 25,
   "id": "0ea9c9c5-85cb-4fae-a893-27697a25d525",
   "metadata": {},
   "outputs": [
    {
     "name": "stdout",
     "output_type": "stream",
     "text": [
      "The students dataset has ['student_id', 'age'] columns\n"
     ]
    }
   ],
   "source": [
    "print(f\"The students dataset has {columns} columns\")"
   ]
  },
  {
   "cell_type": "code",
   "execution_count": null,
   "id": "6c5b98b4-1b67-4fca-a321-142ae360e386",
   "metadata": {},
   "outputs": [],
   "source": [
    "\n"
   ]
  }
 ],
 "metadata": {
  "kernelspec": {
   "display_name": "Python 3 (ipykernel)",
   "language": "python",
   "name": "python3"
  },
  "language_info": {
   "codemirror_mode": {
    "name": "ipython",
    "version": 3
   },
   "file_extension": ".py",
   "mimetype": "text/x-python",
   "name": "python",
   "nbconvert_exporter": "python",
   "pygments_lexer": "ipython3",
   "version": "3.12.4"
  }
 },
 "nbformat": 4,
 "nbformat_minor": 5
}
