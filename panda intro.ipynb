{
 "cells": [
  {
   "cell_type": "markdown",
   "id": "ae563ea1-73e9-4e3d-85d8-a9dfef9743bd",
   "metadata": {},
   "source": [
    "# We imported Pandas Library"
   ]
  },
  {
   "cell_type": "markdown",
   "id": "be1888c2-817a-4a33-90cf-acc7433dc2f6",
   "metadata": {},
   "source": [
    "import pandas as pd"
   ]
  },
  {
   "cell_type": "code",
   "execution_count": 9,
   "id": "ac450101-eb6b-4c24-90f7-719b6e7ce288",
   "metadata": {},
   "outputs": [],
   "source": [
    "student_data = [1,5], [2,11], [3,11], [4,20]"
   ]
  },
  {
   "cell_type": "code",
   "execution_count": 11,
   "id": "2b01024d-8ea8-4f58-b657-d8fe08be36db",
   "metadata": {},
   "outputs": [
    {
     "data": {
      "text/plain": [
       "([1, 5], [2, 11], [3, 11], [4, 20])"
      ]
     },
     "execution_count": 11,
     "metadata": {},
     "output_type": "execute_result"
    }
   ],
   "source": [
    "student_data"
   ]
  },
  {
   "cell_type": "code",
   "execution_count": 13,
   "id": "3ea71ce2-8b48-4936-918c-9d1581f878d9",
   "metadata": {},
   "outputs": [
    {
     "data": {
      "text/plain": [
       "tuple"
      ]
     },
     "execution_count": 13,
     "metadata": {},
     "output_type": "execute_result"
    }
   ],
   "source": [
    "type(student_data)"
   ]
  },
  {
   "cell_type": "code",
   "execution_count": 20,
   "id": "ae44406b-7e6b-4b5e-bb20-f6a1279f7253",
   "metadata": {},
   "outputs": [],
   "source": [
    "columns = [\"student_id\", \"age\"]"
   ]
  }
 ],
 "metadata": {
  "kernelspec": {
   "display_name": "Python 3 (ipykernel)",
   "language": "python",
   "name": "python3"
  },
  "language_info": {
   "codemirror_mode": {
    "name": "ipython",
    "version": 3
   },
   "file_extension": ".py",
   "mimetype": "text/x-python",
   "name": "python",
   "nbconvert_exporter": "python",
   "pygments_lexer": "ipython3",
   "version": "3.12.4"
  }
 },
 "nbformat": 4,
 "nbformat_minor": 5
}
