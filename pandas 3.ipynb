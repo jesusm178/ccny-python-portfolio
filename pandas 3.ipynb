{
 "cells": [
  {
   "cell_type": "code",
   "execution_count": null,
   "id": "2915919e-dd1a-4548-916b-e8cec67d1926",
   "metadata": {},
   "outputs": [],
   "source": []
  },
  {
   "cell_type": "markdown",
   "id": "60cf09ab-8867-457f-964f-62ed1dd93cfc",
   "metadata": {},
   "source": [
    "## Recap \n",
    "\n",
    "- We know how to create a 'Data Frame' (table for pandas)\n",
    "- We know how to find the no. 'of rows and columns of our table\n",
    "- We know how to display the first 'n' of rows of our table. Ex: first 5 rows\n",
    "- We know how to create a new column and populate it with values.\n",
    "- We know how to filter our table by a specific "
   ]
  },
  {
   "cell_type": "code",
   "execution_count": null,
   "id": "0d01f101-9c2c-483b-9242-5f8ec407cb18",
   "metadata": {},
   "outputs": [],
   "source": []
  }
 ],
 "metadata": {
  "kernelspec": {
   "display_name": "Python 3 (ipykernel)",
   "language": "python",
   "name": "python3"
  },
  "language_info": {
   "codemirror_mode": {
    "name": "ipython",
    "version": 3
   },
   "file_extension": ".py",
   "mimetype": "text/x-python",
   "name": "python",
   "nbconvert_exporter": "python",
   "pygments_lexer": "ipython3",
   "version": "3.12.4"
  }
 },
 "nbformat": 4,
 "nbformat_minor": 5
}
